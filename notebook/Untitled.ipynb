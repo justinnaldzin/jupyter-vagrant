{
 "cells": [
  {
   "cell_type": "code",
   "execution_count": 7,
   "metadata": {
    "collapsed": false
   },
   "outputs": [
    {
     "name": "stderr",
     "output_type": "stream",
     "text": [
      "INFO:bokeh.core.state:Session output file 'iris.html' already exists, will be overwritten.\n",
      "/usr/lib/python3.5/site-packages/bokeh/util/deprecation.py:34: BokehDeprecationWarning: legend_margin was deprecated in Bokeh 0.12.3 and will be removed, use Legend.margin instead.\n",
      "  warn(message)\n",
      "/usr/lib/python3.5/site-packages/bokeh/util/deprecation.py:34: BokehDeprecationWarning: legend_padding was deprecated in Bokeh 0.12.3 and will be removed, use Legend.padding instead.\n",
      "  warn(message)\n",
      "/usr/lib/python3.5/site-packages/bokeh/util/deprecation.py:34: BokehDeprecationWarning: legend_spacing was deprecated in Bokeh 0.12.3 and will be removed, use Legend.spacing instead.\n",
      "  warn(message)\n"
     ]
    },
    {
     "ename": "TypeError",
     "evalue": "argument should be string, bytes or integer, not Figure",
     "output_type": "error",
     "traceback": [
      "\u001b[0;31m---------------------------------------------------------------------------\u001b[0m",
      "\u001b[0;31mTypeError\u001b[0m                                 Traceback (most recent call last)",
      "\u001b[0;32m<ipython-input-7-f787a97e74a8>\u001b[0m in \u001b[0;36m<module>\u001b[0;34m()\u001b[0m\n\u001b[1;32m     88\u001b[0m \u001b[0;34m\u001b[0m\u001b[0m\n\u001b[1;32m     89\u001b[0m \u001b[0;31m#Save and show the figure\u001b[0m\u001b[0;34m\u001b[0m\u001b[0;34m\u001b[0m\u001b[0m\n\u001b[0;32m---> 90\u001b[0;31m \u001b[0moutput_file\u001b[0m\u001b[0;34m(\u001b[0m\u001b[0mf\u001b[0m\u001b[0;34m)\u001b[0m\u001b[0;34m\u001b[0m\u001b[0m\n\u001b[0m",
      "\u001b[0;32m/usr/lib/python3.5/site-packages/bokeh/io.py\u001b[0m in \u001b[0;36moutput_file\u001b[0;34m(filename, title, mode, root_dir)\u001b[0m\n\u001b[1;32m    136\u001b[0m         \u001b[0mtitle\u001b[0m\u001b[0;34m=\u001b[0m\u001b[0mtitle\u001b[0m\u001b[0;34m,\u001b[0m\u001b[0;34m\u001b[0m\u001b[0m\n\u001b[1;32m    137\u001b[0m         \u001b[0mmode\u001b[0m\u001b[0;34m=\u001b[0m\u001b[0mmode\u001b[0m\u001b[0;34m,\u001b[0m\u001b[0;34m\u001b[0m\u001b[0m\n\u001b[0;32m--> 138\u001b[0;31m         \u001b[0mroot_dir\u001b[0m\u001b[0;34m=\u001b[0m\u001b[0mroot_dir\u001b[0m\u001b[0;34m\u001b[0m\u001b[0m\n\u001b[0m\u001b[1;32m    139\u001b[0m     )\n\u001b[1;32m    140\u001b[0m \u001b[0;34m\u001b[0m\u001b[0m\n",
      "\u001b[0;32m/usr/lib/python3.5/site-packages/bokeh/core/state.py\u001b[0m in \u001b[0;36moutput_file\u001b[0;34m(self, filename, title, mode, root_dir)\u001b[0m\n\u001b[1;32m    205\u001b[0m         }\n\u001b[1;32m    206\u001b[0m \u001b[0;34m\u001b[0m\u001b[0m\n\u001b[0;32m--> 207\u001b[0;31m         \u001b[0;32mif\u001b[0m \u001b[0mos\u001b[0m\u001b[0;34m.\u001b[0m\u001b[0mpath\u001b[0m\u001b[0;34m.\u001b[0m\u001b[0misfile\u001b[0m\u001b[0;34m(\u001b[0m\u001b[0mfilename\u001b[0m\u001b[0;34m)\u001b[0m\u001b[0;34m:\u001b[0m\u001b[0;34m\u001b[0m\u001b[0m\n\u001b[0m\u001b[1;32m    208\u001b[0m             \u001b[0mlogger\u001b[0m\u001b[0;34m.\u001b[0m\u001b[0minfo\u001b[0m\u001b[0;34m(\u001b[0m\u001b[0;34m\"Session output file '%s' already exists, will be overwritten.\"\u001b[0m \u001b[0;34m%\u001b[0m \u001b[0mfilename\u001b[0m\u001b[0;34m)\u001b[0m\u001b[0;34m\u001b[0m\u001b[0m\n\u001b[1;32m    209\u001b[0m \u001b[0;34m\u001b[0m\u001b[0m\n",
      "\u001b[0;32m/usr/lib64/python3.5/genericpath.py\u001b[0m in \u001b[0;36misfile\u001b[0;34m(path)\u001b[0m\n\u001b[1;32m     28\u001b[0m     \u001b[0;34m\"\"\"Test whether a path is a regular file\"\"\"\u001b[0m\u001b[0;34m\u001b[0m\u001b[0m\n\u001b[1;32m     29\u001b[0m     \u001b[0;32mtry\u001b[0m\u001b[0;34m:\u001b[0m\u001b[0;34m\u001b[0m\u001b[0m\n\u001b[0;32m---> 30\u001b[0;31m         \u001b[0mst\u001b[0m \u001b[0;34m=\u001b[0m \u001b[0mos\u001b[0m\u001b[0;34m.\u001b[0m\u001b[0mstat\u001b[0m\u001b[0;34m(\u001b[0m\u001b[0mpath\u001b[0m\u001b[0;34m)\u001b[0m\u001b[0;34m\u001b[0m\u001b[0m\n\u001b[0m\u001b[1;32m     31\u001b[0m     \u001b[0;32mexcept\u001b[0m \u001b[0mOSError\u001b[0m\u001b[0;34m:\u001b[0m\u001b[0;34m\u001b[0m\u001b[0m\n\u001b[1;32m     32\u001b[0m         \u001b[0;32mreturn\u001b[0m \u001b[0;32mFalse\u001b[0m\u001b[0;34m\u001b[0m\u001b[0m\n",
      "\u001b[0;31mTypeError\u001b[0m: argument should be string, bytes or integer, not Figure"
     ]
    }
   ],
   "source": [
    "#Plotting flower species\n",
    " \n",
    "#Importing libraries\n",
    "from bokeh.plotting import figure\n",
    "from bokeh.io import output_file, show\n",
    "from bokeh.sampledata.iris import flowers\n",
    "from bokeh.models import Range1d, PanTool, ResetTool, HoverTool, WheelZoomTool\n",
    "from screeninfo import get_monitors\n",
    " \n",
    "#Define the output file path\n",
    "output_file(\"iris.html\")\n",
    " \n",
    "#Create the figure object\n",
    "f=figure()\n",
    " \n",
    "#Style the tools\n",
    "f.tools=[PanTool(),ResetTool(),WheelZoomTool()] #added WheelZoomTool here to allow the user to zoom in and out\n",
    "hover=HoverTool(tooltips=[(\"Species\",\"@species\"),(\"Sepal Width\",\"@sepal_width\")])\n",
    "f.add_tools(hover)\n",
    "f.toolbar_location='above'\n",
    "f.toolbar.logo=None\n",
    " \n",
    "#Style the plot area\n",
    "f.background_fill_color=\"grey\"\n",
    "f.background_fill_alpha=0.1\n",
    "f.sizing_mode=\"stretch_both\" #graph will resize itself when user resizes the browser\n",
    " \n",
    "#Style the title\n",
    "f.title.text=\"Iris Morphology\"\n",
    "f.title.text_color=\"olive\"\n",
    "f.title.text_alpha=0.6\n",
    "f.title.text_font=\"antiqua\"\n",
    "f.title.text_font_size=\"18px\"\n",
    "f.title.align=\"center\"\n",
    " \n",
    "#Style the axes\n",
    "f.yaxis.major_label_orientation=\"vertical\"\n",
    "f.xaxis.minor_tick_in=-6\n",
    "f.yaxis.minor_tick_in=-6\n",
    "f.axis.minor_tick_line_color=\"grey\"\n",
    "f.axis.axis_line_color=\"olive\"\n",
    "f.xaxis.axis_label=\"Petal Length\"\n",
    "f.yaxis.axis_label=\"Petal Width\"\n",
    "f.axis.axis_label_text_color=\"olive\"\n",
    "f.axis.axis_label_text_font=\"antiqua\"\n",
    "f.axis.axis_label_text_font_style=\"bold\"\n",
    "f.axis.major_label_text_color=\"olive\"\n",
    " \n",
    "#Axes geometry\n",
    "f.x_range=Range1d(start=flowers[\"petal_length\"][flowers[\"species\"]=='versicolor'].min(),end=flowers[\"petal_length\"][flowers[\"species\"]=='versicolor'].max())\n",
    "f.y_range=Range1d(start=flowers[\"petal_width\"][flowers[\"species\"]=='versicolor'].min(),end=flowers[\"petal_width\"][flowers[\"species\"]=='versicolor'].max())\n",
    "f.xaxis[0].ticker.desired_num_ticks=6\n",
    "f.yaxis[0].ticker.desired_num_ticks=6\n",
    "f.yaxis[0].ticker.num_minor_ticks=5\n",
    "f.xaxis[0].ticker.num_minor_ticks=5\n",
    " \n",
    "#Style the grid\n",
    "f.grid.grid_line_color=(128,128,0,0.5) #equivalent to olive color with a 0.5 alpha value\n",
    "f.grid.grid_line_dash=[5,3] #5 pixels of line and 3 pixels of space \n",
    "f.grid.minor_grid_line_color=(128,128,0,0.1) #equivalent to olive color with a 0.1 alpha value\n",
    "f.grid.minor_grid_line_dash=[3,3]\n",
    " \n",
    "colormap={'setosa':'red','versicolor':'green','virginica':'blue'}\n",
    "flowers['color']=[colormap[x] for x in flowers['species']]\n",
    " \n",
    "#adding glyphs\n",
    "f.circle(x=flowers[\"petal_length\"][flowers[\"species\"]==\"setosa\"], y=flowers[\"petal_width\"][flowers[\"species\"]==\"setosa\"],\n",
    "         size=flowers['sepal_width'][flowers[\"species\"]==\"setosa\"]*4,\n",
    "         fill_alpha=0.2,color=flowers['color'][flowers[\"species\"]==\"setosa\"],line_dash=[5,3],legend='Setosa')\n",
    " \n",
    "f.circle(x=flowers[\"petal_length\"][flowers[\"species\"]==\"versicolor\"], y=flowers[\"petal_width\"][flowers[\"species\"]==\"versicolor\"],\n",
    "         size=flowers['sepal_width'][flowers[\"species\"]==\"versicolor\"]*4,\n",
    "         fill_alpha=0.2,color=flowers['color'][flowers[\"species\"]==\"versicolor\"],line_dash=[5,3],legend='Versicolor')\n",
    " \n",
    "f.circle(x=flowers[\"petal_length\"][flowers[\"species\"]==\"virginica\"], y=flowers[\"petal_width\"][flowers[\"species\"]==\"virginica\"],\n",
    "         size=flowers['sepal_width'][flowers[\"species\"]==\"virginica\"]*4,\n",
    "         fill_alpha=0.2,color=flowers['color'][flowers[\"species\"]==\"virginica\"],line_dash=[5,3],legend='Virginica')\n",
    " \n",
    "#Style the legend\n",
    "f.legend.location=\"top_left\"\n",
    "f.legend.background_fill_alpha=0\n",
    "f.legend.border_line_color=None\n",
    "f.legend.legend_margin=10\n",
    "f.legend.legend_padding=18\n",
    "f.legend.legend_spacing=1\n",
    "f.legend.label_text_color='olive'\n",
    "f.legend.label_text_font='antiqua'\n",
    " \n",
    "#Save and show the figure\n",
    "output_file(f)"
   ]
  },
  {
   "cell_type": "code",
   "execution_count": null,
   "metadata": {
    "collapsed": true
   },
   "outputs": [],
   "source": []
  }
 ],
 "metadata": {
  "kernelspec": {
   "display_name": "Python 3",
   "language": "python",
   "name": "python3"
  },
  "language_info": {
   "codemirror_mode": {
    "name": "ipython",
    "version": 3
   },
   "file_extension": ".py",
   "mimetype": "text/x-python",
   "name": "python",
   "nbconvert_exporter": "python",
   "pygments_lexer": "ipython3",
   "version": "3.5.3"
  }
 },
 "nbformat": 4,
 "nbformat_minor": 2
}
