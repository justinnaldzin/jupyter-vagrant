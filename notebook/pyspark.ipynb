{
 "cells": [
  {
   "cell_type": "code",
   "execution_count": 1,
   "metadata": {
    "collapsed": false,
    "deletable": true,
    "editable": true
   },
   "outputs": [],
   "source": [
    "from pyspark import SparkContext, SparkConf, SQLContext\n",
    "conf = SparkConf().setAppName('test').set(\"spark.executor.memory\", \"2g\").setMaster(\"local[*]\")\n",
    "sc = SparkContext(conf=conf)\n",
    "sqlContext = SQLContext(sc)"
   ]
  },
  {
   "cell_type": "code",
   "execution_count": 2,
   "metadata": {
    "collapsed": false,
    "deletable": true,
    "editable": true
   },
   "outputs": [],
   "source": [
    "# Create a DataFrame from a CSV file\n",
    "csv_filepath = '/jupyter-vagrant/notebook/On_Time_Performance_2013_7.csv'\n",
    "dataframe = sqlContext.read.format('com.databricks.spark.csv').options(header='true', inferschema='true').load(csv_filepath)"
   ]
  },
  {
   "cell_type": "code",
   "execution_count": 3,
   "metadata": {
    "collapsed": false,
    "deletable": true,
    "editable": true
   },
   "outputs": [
    {
     "name": "stdout",
     "output_type": "stream",
     "text": [
      "root\n",
      " |-- Year: integer (nullable = true)\n",
      " |-- Quarter: integer (nullable = true)\n",
      " |-- Month: integer (nullable = true)\n",
      " |-- DayofMonth: integer (nullable = true)\n",
      " |-- DayOfWeek: integer (nullable = true)\n",
      " |-- FlightDate: timestamp (nullable = true)\n",
      " |-- UniqueCarrier: string (nullable = true)\n",
      " |-- AirlineID: integer (nullable = true)\n",
      " |-- Carrier: string (nullable = true)\n",
      " |-- TailNum: string (nullable = true)\n",
      " |-- FlightNum: integer (nullable = true)\n",
      " |-- OriginAirportID: integer (nullable = true)\n",
      " |-- OriginAirportSeqID: integer (nullable = true)\n",
      " |-- OriginCityMarketID: integer (nullable = true)\n",
      " |-- Origin: string (nullable = true)\n",
      " |-- OriginCityName: string (nullable = true)\n",
      " |-- OriginState: string (nullable = true)\n",
      " |-- OriginStateFips: integer (nullable = true)\n",
      " |-- OriginStateName: string (nullable = true)\n",
      " |-- OriginWac: integer (nullable = true)\n",
      " |-- DestAirportID: integer (nullable = true)\n",
      " |-- DestAirportSeqID: integer (nullable = true)\n",
      " |-- DestCityMarketID: integer (nullable = true)\n",
      " |-- Dest: string (nullable = true)\n",
      " |-- DestCityName: string (nullable = true)\n",
      " |-- DestState: string (nullable = true)\n",
      " |-- DestStateFips: integer (nullable = true)\n",
      " |-- DestStateName: string (nullable = true)\n",
      " |-- DestWac: integer (nullable = true)\n",
      " |-- CRSDepTime: integer (nullable = true)\n",
      " |-- DepTime: integer (nullable = true)\n",
      " |-- DepDelay: double (nullable = true)\n",
      " |-- DepDelayMinutes: double (nullable = true)\n",
      " |-- DepDel15: double (nullable = true)\n",
      " |-- DepartureDelayGroups: integer (nullable = true)\n",
      " |-- DepTimeBlk: string (nullable = true)\n",
      " |-- TaxiOut: double (nullable = true)\n",
      " |-- WheelsOff: integer (nullable = true)\n",
      " |-- WheelsOn: integer (nullable = true)\n",
      " |-- TaxiIn: double (nullable = true)\n",
      " |-- CRSArrTime: integer (nullable = true)\n",
      " |-- ArrTime: integer (nullable = true)\n",
      " |-- ArrDelay: double (nullable = true)\n",
      " |-- ArrDelayMinutes: double (nullable = true)\n",
      " |-- ArrDel15: double (nullable = true)\n",
      " |-- ArrivalDelayGroups: integer (nullable = true)\n",
      " |-- ArrTimeBlk: string (nullable = true)\n",
      " |-- Cancelled: double (nullable = true)\n",
      " |-- CancellationCode: string (nullable = true)\n",
      " |-- Diverted: double (nullable = true)\n",
      " |-- CRSElapsedTime: double (nullable = true)\n",
      " |-- ActualElapsedTime: double (nullable = true)\n",
      " |-- AirTime: double (nullable = true)\n",
      " |-- Flights: double (nullable = true)\n",
      " |-- Distance: double (nullable = true)\n",
      " |-- DistanceGroup: integer (nullable = true)\n",
      " |-- CarrierDelay: double (nullable = true)\n",
      " |-- WeatherDelay: double (nullable = true)\n",
      " |-- NASDelay: double (nullable = true)\n",
      " |-- SecurityDelay: double (nullable = true)\n",
      " |-- LateAircraftDelay: double (nullable = true)\n",
      " |-- FirstDepTime: integer (nullable = true)\n",
      " |-- TotalAddGTime: double (nullable = true)\n",
      " |-- LongestAddGTime: double (nullable = true)\n",
      " |-- DivAirportLandings: integer (nullable = true)\n",
      " |-- DivReachedDest: double (nullable = true)\n",
      " |-- DivActualElapsedTime: double (nullable = true)\n",
      " |-- DivArrDelay: double (nullable = true)\n",
      " |-- DivDistance: double (nullable = true)\n",
      " |-- Div1Airport: string (nullable = true)\n",
      " |-- Div1AirportID: integer (nullable = true)\n",
      " |-- Div1AirportSeqID: integer (nullable = true)\n",
      " |-- Div1WheelsOn: integer (nullable = true)\n",
      " |-- Div1TotalGTime: double (nullable = true)\n",
      " |-- Div1LongestGTime: double (nullable = true)\n",
      " |-- Div1WheelsOff: integer (nullable = true)\n",
      " |-- Div1TailNum: string (nullable = true)\n",
      " |-- Div2Airport: string (nullable = true)\n",
      " |-- Div2AirportID: integer (nullable = true)\n",
      " |-- Div2AirportSeqID: integer (nullable = true)\n",
      " |-- Div2WheelsOn: integer (nullable = true)\n",
      " |-- Div2TotalGTime: double (nullable = true)\n",
      " |-- Div2LongestGTime: double (nullable = true)\n",
      " |-- Div2WheelsOff: integer (nullable = true)\n",
      " |-- Div2TailNum: string (nullable = true)\n",
      " |-- Div3Airport: string (nullable = true)\n",
      " |-- Div3AirportID: string (nullable = true)\n",
      " |-- Div3AirportSeqID: string (nullable = true)\n",
      " |-- Div3WheelsOn: string (nullable = true)\n",
      " |-- Div3TotalGTime: string (nullable = true)\n",
      " |-- Div3LongestGTime: string (nullable = true)\n",
      " |-- Div3WheelsOff: string (nullable = true)\n",
      " |-- Div3TailNum: string (nullable = true)\n",
      " |-- Div4Airport: string (nullable = true)\n",
      " |-- Div4AirportID: string (nullable = true)\n",
      " |-- Div4AirportSeqID: string (nullable = true)\n",
      " |-- Div4WheelsOn: string (nullable = true)\n",
      " |-- Div4TotalGTime: string (nullable = true)\n",
      " |-- Div4LongestGTime: string (nullable = true)\n",
      " |-- Div4WheelsOff: string (nullable = true)\n",
      " |-- Div4TailNum: string (nullable = true)\n",
      " |-- Div5Airport: string (nullable = true)\n",
      " |-- Div5AirportID: string (nullable = true)\n",
      " |-- Div5AirportSeqID: string (nullable = true)\n",
      " |-- Div5WheelsOn: string (nullable = true)\n",
      " |-- Div5TotalGTime: string (nullable = true)\n",
      " |-- Div5LongestGTime: string (nullable = true)\n",
      " |-- Div5WheelsOff: string (nullable = true)\n",
      " |-- Div5TailNum: string (nullable = true)\n",
      " |-- _c109: string (nullable = true)\n",
      "\n"
     ]
    }
   ],
   "source": [
    "dataframe.printSchema()"
   ]
  },
  {
   "cell_type": "code",
   "execution_count": 4,
   "metadata": {
    "collapsed": false,
    "deletable": true,
    "editable": true
   },
   "outputs": [
    {
     "name": "stdout",
     "output_type": "stream",
     "text": [
      "+----+-------+\n",
      "|Year|Carrier|\n",
      "+----+-------+\n",
      "|2013|     UA|\n",
      "|2013|     WN|\n",
      "|2013|     B6|\n",
      "|2013|     AS|\n",
      "|2013|     HA|\n",
      "|2013|     DL|\n",
      "|2013|     OO|\n",
      "|2013|     MQ|\n",
      "|2013|     YV|\n",
      "|2013|     F9|\n",
      "|2013|     AA|\n",
      "|2013|     9E|\n",
      "|2013|     FL|\n",
      "|2013|     VX|\n",
      "|2013|     US|\n",
      "|2013|     EV|\n",
      "+----+-------+\n",
      "\n"
     ]
    }
   ],
   "source": [
    "# Register the DataFrame as a SQL temporary view\n",
    "dataframe.createOrReplaceTempView(\"table\")\n",
    "sql_df = sqlContext.sql(\"SELECT distinct Year, Carrier FROM table\")\n",
    "sql_df.show()"
   ]
  },
  {
   "cell_type": "code",
   "execution_count": 5,
   "metadata": {
    "collapsed": false,
    "deletable": true,
    "editable": true
   },
   "outputs": [],
   "source": [
    "# Data source types and save modes\n",
    "dataframe.write.save(\"temp.parquet\", format=\"parquet\", mode='overwrite')\n",
    "dataframe.write.save(\"temp.json\", format=\"json\", mode='overwrite')\n",
    "#dataframe.write.save(\"temp.jdbc\", format=\"jdbc\", mode='overwrite')  # requires URL\n",
    "dataframe.write.save(\"temp.orc\", format=\"orc\", mode='overwrite')\n",
    "#dataframe.write.save(\"temp\", format=\"libsvm\", mode='overwrite')  # Fails\n",
    "dataframe.write.save(\"temp.csv\", format=\"csv\", mode='overwrite')\n",
    "#dataframe.write.save(\"temp.text\", format=\"text\", mode='overwrite')  # Text data source supports only a single column\n",
    "\n",
    "# Alternative syntax\n",
    "#dataframe.write.format('com.databricks.spark.csv').mode('overwrite').save(\"temp.json\")\n",
    "\n",
    "# Save modes: \"error\", \"append\", \"overwrite\", \"ignore\""
   ]
  },
  {
   "cell_type": "markdown",
   "metadata": {
    "deletable": true,
    "editable": true
   },
   "source": [
    "####  ExampleSizes\n",
    "|Size|Format|\n",
    "|------|--------|\n",
    "|247M|Source CSV|\n",
    "|200M|temp.csv/|\n",
    "|616M|temp.json/|\n",
    "|26M|temp.orc/|\n",
    "|17M|temp.parquet/|\n"
   ]
  },
  {
   "cell_type": "code",
   "execution_count": 6,
   "metadata": {
    "collapsed": true,
    "deletable": true,
    "editable": true
   },
   "outputs": [],
   "source": [
    "# Alternatively read other data sources\n",
    "dataframe = sqlContext.read.parquet(\"temp.parquet\")\n",
    "dataframe = sqlContext.read.json(\"temp.json\")\n",
    "dataframe = sqlContext.read.orc(\"temp.orc\")"
   ]
  },
  {
   "cell_type": "code",
   "execution_count": null,
   "metadata": {
    "collapsed": true,
    "deletable": true,
    "editable": true
   },
   "outputs": [],
   "source": []
  }
 ],
 "metadata": {
  "kernelspec": {
   "display_name": "Python 3",
   "language": "python",
   "name": "python3"
  },
  "language_info": {
   "codemirror_mode": {
    "name": "ipython",
    "version": 3
   },
   "file_extension": ".py",
   "mimetype": "text/x-python",
   "name": "python",
   "nbconvert_exporter": "python",
   "pygments_lexer": "ipython3",
   "version": "3.5.3"
  }
 },
 "nbformat": 4,
 "nbformat_minor": 2
}
