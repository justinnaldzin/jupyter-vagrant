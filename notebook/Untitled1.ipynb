{
 "cells": [
  {
   "cell_type": "code",
   "execution_count": 22,
   "metadata": {
    "collapsed": false,
    "deletable": true,
    "editable": true
   },
   "outputs": [
    {
     "data": {
      "text/html": [
       "\n",
       "    <div class=\"bk-root\">\n",
       "        <a href=\"http://bokeh.pydata.org\" target=\"_blank\" class=\"bk-logo bk-logo-small bk-logo-notebook\"></a>\n",
       "        <span id=\"f2946f3f-57e8-4aab-b575-8222a41eb593\">Loading BokehJS ...</span>\n",
       "    </div>"
      ]
     },
     "metadata": {},
     "output_type": "display_data"
    },
    {
     "data": {
      "application/javascript": [
       "\n",
       "(function(global) {\n",
       "  function now() {\n",
       "    return new Date();\n",
       "  }\n",
       "\n",
       "  var force = true;\n",
       "\n",
       "  if (typeof (window._bokeh_onload_callbacks) === \"undefined\" || force === true) {\n",
       "    window._bokeh_onload_callbacks = [];\n",
       "    window._bokeh_is_loading = undefined;\n",
       "  }\n",
       "\n",
       "\n",
       "  \n",
       "  if (typeof (window._bokeh_timeout) === \"undefined\" || force === true) {\n",
       "    window._bokeh_timeout = Date.now() + 5000;\n",
       "    window._bokeh_failed_load = false;\n",
       "  }\n",
       "\n",
       "  var NB_LOAD_WARNING = {'data': {'text/html':\n",
       "     \"<div style='background-color: #fdd'>\\n\"+\n",
       "     \"<p>\\n\"+\n",
       "     \"BokehJS does not appear to have successfully loaded. If loading BokehJS from CDN, this \\n\"+\n",
       "     \"may be due to a slow or bad network connection. Possible fixes:\\n\"+\n",
       "     \"</p>\\n\"+\n",
       "     \"<ul>\\n\"+\n",
       "     \"<li>re-rerun `output_notebook()` to attempt to load from CDN again, or</li>\\n\"+\n",
       "     \"<li>use INLINE resources instead, as so:</li>\\n\"+\n",
       "     \"</ul>\\n\"+\n",
       "     \"<code>\\n\"+\n",
       "     \"from bokeh.resources import INLINE\\n\"+\n",
       "     \"output_notebook(resources=INLINE)\\n\"+\n",
       "     \"</code>\\n\"+\n",
       "     \"</div>\"}};\n",
       "\n",
       "  function display_loaded() {\n",
       "    if (window.Bokeh !== undefined) {\n",
       "      document.getElementById(\"f2946f3f-57e8-4aab-b575-8222a41eb593\").textContent = \"BokehJS successfully loaded.\";\n",
       "    } else if (Date.now() < window._bokeh_timeout) {\n",
       "      setTimeout(display_loaded, 100)\n",
       "    }\n",
       "  }\n",
       "\n",
       "  function run_callbacks() {\n",
       "    window._bokeh_onload_callbacks.forEach(function(callback) { callback() });\n",
       "    delete window._bokeh_onload_callbacks\n",
       "    console.info(\"Bokeh: all callbacks have finished\");\n",
       "  }\n",
       "\n",
       "  function load_libs(js_urls, callback) {\n",
       "    window._bokeh_onload_callbacks.push(callback);\n",
       "    if (window._bokeh_is_loading > 0) {\n",
       "      console.log(\"Bokeh: BokehJS is being loaded, scheduling callback at\", now());\n",
       "      return null;\n",
       "    }\n",
       "    if (js_urls == null || js_urls.length === 0) {\n",
       "      run_callbacks();\n",
       "      return null;\n",
       "    }\n",
       "    console.log(\"Bokeh: BokehJS not loaded, scheduling load and callback at\", now());\n",
       "    window._bokeh_is_loading = js_urls.length;\n",
       "    for (var i = 0; i < js_urls.length; i++) {\n",
       "      var url = js_urls[i];\n",
       "      var s = document.createElement('script');\n",
       "      s.src = url;\n",
       "      s.async = false;\n",
       "      s.onreadystatechange = s.onload = function() {\n",
       "        window._bokeh_is_loading--;\n",
       "        if (window._bokeh_is_loading === 0) {\n",
       "          console.log(\"Bokeh: all BokehJS libraries loaded\");\n",
       "          run_callbacks()\n",
       "        }\n",
       "      };\n",
       "      s.onerror = function() {\n",
       "        console.warn(\"failed to load library \" + url);\n",
       "      };\n",
       "      console.log(\"Bokeh: injecting script tag for BokehJS library: \", url);\n",
       "      document.getElementsByTagName(\"head\")[0].appendChild(s);\n",
       "    }\n",
       "  };var element = document.getElementById(\"f2946f3f-57e8-4aab-b575-8222a41eb593\");\n",
       "  if (element == null) {\n",
       "    console.log(\"Bokeh: ERROR: autoload.js configured with elementid 'f2946f3f-57e8-4aab-b575-8222a41eb593' but no matching script tag was found. \")\n",
       "    return false;\n",
       "  }\n",
       "\n",
       "  var js_urls = [\"https://cdn.pydata.org/bokeh/release/bokeh-0.12.4.min.js\", \"https://cdn.pydata.org/bokeh/release/bokeh-widgets-0.12.4.min.js\"];\n",
       "\n",
       "  var inline_js = [\n",
       "    function(Bokeh) {\n",
       "      Bokeh.set_log_level(\"info\");\n",
       "    },\n",
       "    \n",
       "    function(Bokeh) {\n",
       "      \n",
       "      document.getElementById(\"f2946f3f-57e8-4aab-b575-8222a41eb593\").textContent = \"BokehJS is loading...\";\n",
       "    },\n",
       "    function(Bokeh) {\n",
       "      console.log(\"Bokeh: injecting CSS: https://cdn.pydata.org/bokeh/release/bokeh-0.12.4.min.css\");\n",
       "      Bokeh.embed.inject_css(\"https://cdn.pydata.org/bokeh/release/bokeh-0.12.4.min.css\");\n",
       "      console.log(\"Bokeh: injecting CSS: https://cdn.pydata.org/bokeh/release/bokeh-widgets-0.12.4.min.css\");\n",
       "      Bokeh.embed.inject_css(\"https://cdn.pydata.org/bokeh/release/bokeh-widgets-0.12.4.min.css\");\n",
       "    }\n",
       "  ];\n",
       "\n",
       "  function run_inline_js() {\n",
       "    \n",
       "    if ((window.Bokeh !== undefined) || (force === true)) {\n",
       "      for (var i = 0; i < inline_js.length; i++) {\n",
       "        inline_js[i](window.Bokeh);\n",
       "      }if (force === true) {\n",
       "        display_loaded();\n",
       "      }} else if (Date.now() < window._bokeh_timeout) {\n",
       "      setTimeout(run_inline_js, 100);\n",
       "    } else if (!window._bokeh_failed_load) {\n",
       "      console.log(\"Bokeh: BokehJS failed to load within specified timeout.\");\n",
       "      window._bokeh_failed_load = true;\n",
       "    } else if (force !== true) {\n",
       "      var cell = $(document.getElementById(\"f2946f3f-57e8-4aab-b575-8222a41eb593\")).parents('.cell').data().cell;\n",
       "      cell.output_area.append_execute_result(NB_LOAD_WARNING)\n",
       "    }\n",
       "\n",
       "  }\n",
       "\n",
       "  if (window._bokeh_is_loading === 0) {\n",
       "    console.log(\"Bokeh: BokehJS loaded, going straight to plotting\");\n",
       "    run_inline_js();\n",
       "  } else {\n",
       "    load_libs(js_urls, function() {\n",
       "      console.log(\"Bokeh: BokehJS plotting callback run at\", now());\n",
       "      run_inline_js();\n",
       "    });\n",
       "  }\n",
       "}(this));"
      ]
     },
     "metadata": {},
     "output_type": "display_data"
    }
   ],
   "source": [
    "import os\n",
    "import sys\n",
    "import logging\n",
    "import pandas\n",
    "from collections import defaultdict\n",
    "from bokeh.charts import Bar, Scatter, Line\n",
    "from bokeh.layouts import widgetbox, row, column\n",
    "from bokeh.models import Button, Select, RangeSlider, DataTable, ColumnDataSource, CustomJS, TableColumn, Div, CheckboxGroup\n",
    "from bokeh.io import curdoc, output_notebook, push_notebook, show\n",
    "output_notebook()"
   ]
  },
  {
   "cell_type": "code",
   "execution_count": 2,
   "metadata": {
    "collapsed": false,
    "deletable": true,
    "editable": true
   },
   "outputs": [],
   "source": [
    "# Load source data\n",
    "csv_filepath = 'big_data_benchmarking_20170125.csv'\n",
    "if not os.path.isfile(csv_filepath):\n",
    "    logging.error(\"File: \" + csv_filepath + \" does not exist!\")\n",
    "    sys.exit(1)\n",
    "dataframe = pandas.read_csv(csv_filepath, low_memory=False)\n",
    "source = ColumnDataSource(data=dataframe)"
   ]
  },
  {
   "cell_type": "code",
   "execution_count": 3,
   "metadata": {
    "collapsed": true,
    "deletable": true,
    "editable": true
   },
   "outputs": [],
   "source": [
    "# DataTable\n",
    "columns = [TableColumn(field=c, title=c) for c in dataframe.columns]\n",
    "data_table = DataTable(source=source, columns=columns, editable=False, width=1400, height=500)"
   ]
  },
  {
   "cell_type": "code",
   "execution_count": 15,
   "metadata": {
    "collapsed": true,
    "deletable": true,
    "editable": true
   },
   "outputs": [],
   "source": [
    "# Plots\n",
    "def generate_bar():\n",
    "    all_active = []\n",
    "    #all_active.extend(checkbox_database.active)\n",
    "    #all_active.extend([checkbox for checkbox in checkbox_database.active])\n",
    "    source_dataframe = dataframe[dataframe['database'].isin([\"Oracle Database\"])]\n",
    "    bar_concurrency_by_database = Bar(source_dataframe, values='time', label='concurrency_factor', group='database',\n",
    "                                      legend='top_right', xlabel='Concurrency factor', ylabel='Time in seconds',\n",
    "                                      title=\"Average query execution time by concurrency factor\", agg='mean', width=1800)\n",
    "    bar_concurrency_by_database.title.text_font_size = '12pt'\n",
    "    return bar_concurrency_by_database"
   ]
  },
  {
   "cell_type": "code",
   "execution_count": 5,
   "metadata": {
    "collapsed": true,
    "deletable": true,
    "editable": true
   },
   "outputs": [],
   "source": [
    "plots = defaultdict(list)\n",
    "for i in dataframe['concurrency_factor'].sort_values().unique():\n",
    "    scatter_plot = Scatter(dataframe[dataframe['concurrency_factor'] == i], x='rows', y='time', color='database',\n",
    "                           title=\"Concurrency \" + str(i) + \"  |  Individual query execution time\", legend='top_left',\n",
    "                           legend_sort_field='color', legend_sort_direction='ascending', xlabel='Number of rows',\n",
    "                           ylabel='Time in seconds')\n",
    "    scatter_plot.title.text_font_size = '12pt'\n",
    "    plots['scatter_plot'].append(scatter_plot)"
   ]
  },
  {
   "cell_type": "code",
   "execution_count": 24,
   "metadata": {
    "collapsed": true,
    "deletable": true,
    "editable": true
   },
   "outputs": [],
   "source": [
    "def update(attrname, old, new):\n",
    "    current = dataframe[(dataframe['concurrency_factor'] == int(select_concurrency.value))\n",
    "                        & (dataframe['database'].isin(checkbox_database.active))\n",
    "                        #& (dataframe['database'] == select_database.value)\n",
    "                        & (dataframe['table_size_category'] == select_table_size.value)\n",
    "                        & (dataframe['category'] == select_query_category.value)\n",
    "                        #& (dataframe['query_id'] == select_query_id.value)\n",
    "                        #& (dataframe['query_id'].isin([int(i) for i in list(eval(select_query_id.value))]))\n",
    "                        & (dataframe['rows'] >= slider_rows.range[0])\n",
    "                        & (dataframe['rows'] <= slider_rows.range[1])\n",
    "                        & (dataframe['time'] >= slider_time.range[0])\n",
    "                        & (dataframe['time'] <= slider_time.range[1])]\n",
    "    source.data = ColumnDataSource(data=current).data\n",
    "    push_notebook()"
   ]
  },
  {
   "cell_type": "code",
   "execution_count": 7,
   "metadata": {
    "collapsed": false,
    "deletable": true,
    "editable": true
   },
   "outputs": [],
   "source": [
    "#################################################\n",
    "# Widgets\n",
    "options = list(dataframe['concurrency_factor'].sort_values().apply(str).unique())\n",
    "select_concurrency = Select(title=\"Concurrency Factor:\", value=options[0], options=options)\n",
    "select_concurrency.on_change('value', update)\n",
    "\n",
    "labels = list(dataframe['database'].sort_values().apply(str).unique())\n",
    "checkbox_database = CheckboxGroup(labels=labels, active=[])\n",
    "checkbox_database.on_change('active', update)\n",
    "\n",
    "options = list(dataframe['database'].sort_values().apply(str).unique())\n",
    "select_database = Select(title=\"Database:\", value=options[0], options=options)\n",
    "select_database.on_change('value', update)\n",
    "\n",
    "options = list(dataframe['table_size_category'].sort_values().apply(str).unique())\n",
    "select_table_size = Select(title=\"Table Size:\", value=options[0], options=options)\n",
    "select_table_size.on_change('value', update)\n",
    "\n",
    "options = list(dataframe['category'].sort_values().apply(str).unique())\n",
    "select_query_category = Select(title=\"Query Category:\", value=options[0], options=options)\n",
    "select_query_category.on_change('value', update)\n",
    "\n",
    "options = list(dataframe['query_id'].sort_values().apply(str).unique())\n",
    "options = [(str(i), str(i)) for i in options]\n",
    "options.insert(0, (\"99\", \"All\"))\n",
    "select_query_id = Select(title=\"Query ID:\", value=options[1][0], options=options)\n",
    "select_query_id.on_change('value', update)\n",
    "\n",
    "end = dataframe['rows'].max()\n",
    "slider_rows = RangeSlider(start=0, end=end, range=(0, end), step=end//100, title=\"Rows\")\n",
    "slider_rows.on_change('range', update)\n",
    "\n",
    "end = dataframe['time'].max()\n",
    "slider_time = RangeSlider(start=0, end=end, range=(0, end), step=end//100, title=\"Time\")\n",
    "slider_time.on_change('range', update)\n",
    "\n",
    "button_download = Button(label=\"Download\", button_type='success')\n",
    "button_download.callback = CustomJS(args=dict(source=source), code=open(\"download.js\").read())\n",
    "\n",
    "widgets = [select_concurrency, checkbox_database, select_database, select_table_size, select_query_category, select_query_id, slider_rows,\n",
    "           slider_time, button_download]"
   ]
  },
  {
   "cell_type": "code",
   "execution_count": 30,
   "metadata": {
    "collapsed": false,
    "deletable": true,
    "editable": true
   },
   "outputs": [],
   "source": [
    "r1 = row(widgetbox(widgets), widgetbox(data_table))\n",
    "r3 = row([item for item in plots['scatter_plot']])"
   ]
  },
  {
   "cell_type": "code",
   "execution_count": 31,
   "metadata": {
    "collapsed": false,
    "deletable": true,
    "editable": true
   },
   "outputs": [],
   "source": [
    "#################################################\n",
    "# Layout\n",
    "layout = column(r1,r3)\n",
    "from ipywidgets import interact"
   ]
  },
  {
   "cell_type": "code",
   "execution_count": 32,
   "metadata": {
    "collapsed": false,
    "deletable": true,
    "editable": true
   },
   "outputs": [
    {
     "ename": "ValueError",
     "evalue": "cannot find widget or abbreviation for argument: 'attrname'",
     "output_type": "error",
     "traceback": [
      "\u001b[0;31m---------------------------------------------------------------------------\u001b[0m",
      "\u001b[0;31mValueError\u001b[0m                                Traceback (most recent call last)",
      "\u001b[0;32m<ipython-input-32-78fe7778f0c0>\u001b[0m in \u001b[0;36m<module>\u001b[0;34m()\u001b[0m\n\u001b[0;32m----> 1\u001b[0;31m \u001b[0minteract\u001b[0m\u001b[0;34m(\u001b[0m\u001b[0mupdate\u001b[0m\u001b[0;34m)\u001b[0m\u001b[0;34m\u001b[0m\u001b[0m\n\u001b[0m",
      "\u001b[0;32m/usr/lib/python3.5/site-packages/ipywidgets/widgets/interaction.py\u001b[0m in \u001b[0;36minteract\u001b[0;34m(__interact_f, **kwargs)\u001b[0m\n\u001b[1;32m    356\u001b[0m         \u001b[0;31m#        ...\u001b[0m\u001b[0;34m\u001b[0m\u001b[0;34m\u001b[0m\u001b[0m\n\u001b[1;32m    357\u001b[0m         \u001b[0mf\u001b[0m \u001b[0;34m=\u001b[0m \u001b[0m__interact_f\u001b[0m\u001b[0;34m\u001b[0m\u001b[0m\n\u001b[0;32m--> 358\u001b[0;31m         \u001b[0mw\u001b[0m \u001b[0;34m=\u001b[0m \u001b[0minteractive\u001b[0m\u001b[0;34m(\u001b[0m\u001b[0mf\u001b[0m\u001b[0;34m,\u001b[0m \u001b[0;34m**\u001b[0m\u001b[0mkwargs\u001b[0m\u001b[0;34m)\u001b[0m\u001b[0;34m\u001b[0m\u001b[0m\n\u001b[0m\u001b[1;32m    359\u001b[0m         \u001b[0;32mtry\u001b[0m\u001b[0;34m:\u001b[0m\u001b[0;34m\u001b[0m\u001b[0m\n\u001b[1;32m    360\u001b[0m             \u001b[0mf\u001b[0m\u001b[0;34m.\u001b[0m\u001b[0mwidget\u001b[0m \u001b[0;34m=\u001b[0m \u001b[0mw\u001b[0m\u001b[0;34m\u001b[0m\u001b[0m\n",
      "\u001b[0;32m/usr/lib/python3.5/site-packages/ipywidgets/widgets/interaction.py\u001b[0m in \u001b[0;36minteractive\u001b[0;34m(__interact_f, **kwargs)\u001b[0m\n\u001b[1;32m    222\u001b[0m     \u001b[0mkwargs\u001b[0m \u001b[0;34m=\u001b[0m \u001b[0mkwargs\u001b[0m\u001b[0;34m.\u001b[0m\u001b[0mcopy\u001b[0m\u001b[0;34m(\u001b[0m\u001b[0;34m)\u001b[0m\u001b[0;34m\u001b[0m\u001b[0m\n\u001b[1;32m    223\u001b[0m \u001b[0;34m\u001b[0m\u001b[0m\n\u001b[0;32m--> 224\u001b[0;31m     \u001b[0mnew_kwargs\u001b[0m \u001b[0;34m=\u001b[0m \u001b[0m_find_abbreviations\u001b[0m\u001b[0;34m(\u001b[0m\u001b[0mf\u001b[0m\u001b[0;34m,\u001b[0m \u001b[0mkwargs\u001b[0m\u001b[0;34m)\u001b[0m\u001b[0;34m\u001b[0m\u001b[0m\n\u001b[0m\u001b[1;32m    225\u001b[0m     \u001b[0;31m# Before we proceed, let's make sure that the user has passed a set of args+kwargs\u001b[0m\u001b[0;34m\u001b[0m\u001b[0;34m\u001b[0m\u001b[0m\n\u001b[1;32m    226\u001b[0m     \u001b[0;31m# that will lead to a valid call of the function. This protects against unspecified\u001b[0m\u001b[0;34m\u001b[0m\u001b[0;34m\u001b[0m\u001b[0m\n",
      "\u001b[0;32m/usr/lib/python3.5/site-packages/ipywidgets/widgets/interaction.py\u001b[0m in \u001b[0;36m_find_abbreviations\u001b[0;34m(f, kwargs)\u001b[0m\n\u001b[1;32m    179\u001b[0m         \u001b[0;32mfor\u001b[0m \u001b[0mname\u001b[0m\u001b[0;34m,\u001b[0m \u001b[0mvalue\u001b[0m\u001b[0;34m,\u001b[0m \u001b[0mdefault\u001b[0m \u001b[0;32min\u001b[0m \u001b[0m_yield_abbreviations_for_parameter\u001b[0m\u001b[0;34m(\u001b[0m\u001b[0mparam\u001b[0m\u001b[0;34m,\u001b[0m \u001b[0mkwargs\u001b[0m\u001b[0;34m)\u001b[0m\u001b[0;34m:\u001b[0m\u001b[0;34m\u001b[0m\u001b[0m\n\u001b[1;32m    180\u001b[0m             \u001b[0;32mif\u001b[0m \u001b[0mvalue\u001b[0m \u001b[0;32mis\u001b[0m \u001b[0mempty\u001b[0m\u001b[0;34m:\u001b[0m\u001b[0;34m\u001b[0m\u001b[0m\n\u001b[0;32m--> 181\u001b[0;31m                 \u001b[0;32mraise\u001b[0m \u001b[0mValueError\u001b[0m\u001b[0;34m(\u001b[0m\u001b[0;34m'cannot find widget or abbreviation for argument: {!r}'\u001b[0m\u001b[0;34m.\u001b[0m\u001b[0mformat\u001b[0m\u001b[0;34m(\u001b[0m\u001b[0mname\u001b[0m\u001b[0;34m)\u001b[0m\u001b[0;34m)\u001b[0m\u001b[0;34m\u001b[0m\u001b[0m\n\u001b[0m\u001b[1;32m    182\u001b[0m             \u001b[0mnew_kwargs\u001b[0m\u001b[0;34m.\u001b[0m\u001b[0mappend\u001b[0m\u001b[0;34m(\u001b[0m\u001b[0;34m(\u001b[0m\u001b[0mname\u001b[0m\u001b[0;34m,\u001b[0m \u001b[0mvalue\u001b[0m\u001b[0;34m,\u001b[0m \u001b[0mdefault\u001b[0m\u001b[0;34m)\u001b[0m\u001b[0;34m)\u001b[0m\u001b[0;34m\u001b[0m\u001b[0m\n\u001b[1;32m    183\u001b[0m     \u001b[0;32mreturn\u001b[0m \u001b[0mnew_kwargs\u001b[0m\u001b[0;34m\u001b[0m\u001b[0m\n",
      "\u001b[0;31mValueError\u001b[0m: cannot find widget or abbreviation for argument: 'attrname'"
     ]
    }
   ],
   "source": [
    "interact(update)"
   ]
  },
  {
   "cell_type": "code",
   "execution_count": 29,
   "metadata": {
    "collapsed": false,
    "deletable": true,
    "editable": true
   },
   "outputs": [
    {
     "data": {
      "text/html": [
       "\n",
       "\n",
       "    <div class=\"bk-root\">\n",
       "        <div class=\"bk-plotdiv\" id=\"128237dd-b904-4e01-8cb2-fa766ffaa88b\"></div>\n",
       "    </div>\n",
       "<script type=\"text/javascript\">\n",
       "  \n",
       "  (function(global) {\n",
       "    function now() {\n",
       "      return new Date();\n",
       "    }\n",
       "  \n",
       "    var force = false;\n",
       "  \n",
       "    if (typeof (window._bokeh_onload_callbacks) === \"undefined\" || force === true) {\n",
       "      window._bokeh_onload_callbacks = [];\n",
       "      window._bokeh_is_loading = undefined;\n",
       "    }\n",
       "  \n",
       "  \n",
       "    \n",
       "    if (typeof (window._bokeh_timeout) === \"undefined\" || force === true) {\n",
       "      window._bokeh_timeout = Date.now() + 0;\n",
       "      window._bokeh_failed_load = false;\n",
       "    }\n",
       "  \n",
       "    var NB_LOAD_WARNING = {'data': {'text/html':\n",
       "       \"<div style='background-color: #fdd'>\\n\"+\n",
       "       \"<p>\\n\"+\n",
       "       \"BokehJS does not appear to have successfully loaded. If loading BokehJS from CDN, this \\n\"+\n",
       "       \"may be due to a slow or bad network connection. Possible fixes:\\n\"+\n",
       "       \"</p>\\n\"+\n",
       "       \"<ul>\\n\"+\n",
       "       \"<li>re-rerun `output_notebook()` to attempt to load from CDN again, or</li>\\n\"+\n",
       "       \"<li>use INLINE resources instead, as so:</li>\\n\"+\n",
       "       \"</ul>\\n\"+\n",
       "       \"<code>\\n\"+\n",
       "       \"from bokeh.resources import INLINE\\n\"+\n",
       "       \"output_notebook(resources=INLINE)\\n\"+\n",
       "       \"</code>\\n\"+\n",
       "       \"</div>\"}};\n",
       "  \n",
       "    function display_loaded() {\n",
       "      if (window.Bokeh !== undefined) {\n",
       "        document.getElementById(\"128237dd-b904-4e01-8cb2-fa766ffaa88b\").textContent = \"BokehJS successfully loaded.\";\n",
       "      } else if (Date.now() < window._bokeh_timeout) {\n",
       "        setTimeout(display_loaded, 100)\n",
       "      }\n",
       "    }\n",
       "  \n",
       "    function run_callbacks() {\n",
       "      window._bokeh_onload_callbacks.forEach(function(callback) { callback() });\n",
       "      delete window._bokeh_onload_callbacks\n",
       "      console.info(\"Bokeh: all callbacks have finished\");\n",
       "    }\n",
       "  \n",
       "    function load_libs(js_urls, callback) {\n",
       "      window._bokeh_onload_callbacks.push(callback);\n",
       "      if (window._bokeh_is_loading > 0) {\n",
       "        console.log(\"Bokeh: BokehJS is being loaded, scheduling callback at\", now());\n",
       "        return null;\n",
       "      }\n",
       "      if (js_urls == null || js_urls.length === 0) {\n",
       "        run_callbacks();\n",
       "        return null;\n",
       "      }\n",
       "      console.log(\"Bokeh: BokehJS not loaded, scheduling load and callback at\", now());\n",
       "      window._bokeh_is_loading = js_urls.length;\n",
       "      for (var i = 0; i < js_urls.length; i++) {\n",
       "        var url = js_urls[i];\n",
       "        var s = document.createElement('script');\n",
       "        s.src = url;\n",
       "        s.async = false;\n",
       "        s.onreadystatechange = s.onload = function() {\n",
       "          window._bokeh_is_loading--;\n",
       "          if (window._bokeh_is_loading === 0) {\n",
       "            console.log(\"Bokeh: all BokehJS libraries loaded\");\n",
       "            run_callbacks()\n",
       "          }\n",
       "        };\n",
       "        s.onerror = function() {\n",
       "          console.warn(\"failed to load library \" + url);\n",
       "        };\n",
       "        console.log(\"Bokeh: injecting script tag for BokehJS library: \", url);\n",
       "        document.getElementsByTagName(\"head\")[0].appendChild(s);\n",
       "      }\n",
       "    };var element = document.getElementById(\"128237dd-b904-4e01-8cb2-fa766ffaa88b\");\n",
       "    if (element == null) {\n",
       "      console.log(\"Bokeh: ERROR: autoload.js configured with elementid '128237dd-b904-4e01-8cb2-fa766ffaa88b' but no matching script tag was found. \")\n",
       "      return false;\n",
       "    }\n",
       "  \n",
       "    var js_urls = [];\n",
       "  \n",
       "    var inline_js = [\n",
       "      function(Bokeh) {\n",
       "        (function() {\n",
       "          var fn = function() {\n",
       "            var docs_json = {\"19895065-7e24-4ee5-b194-60376dac2cc7\":{\"roots\":{\"references\":[{\"attributes\":{},\"id\":\"51090048-f313-4923-82ed-ae18b3eaf72e\",\"type\":\"BasicTicker\"},{\"attributes\":{\"dimension\":1,\"plot\":{\"id\":\"84f47bb5-c316-420e-88ea-1fd9f1f71668\",\"subtype\":\"Figure\",\"type\":\"Plot\"},\"ticker\":{\"id\":\"51090048-f313-4923-82ed-ae18b3eaf72e\",\"type\":\"BasicTicker\"}},\"id\":\"12bb2248-45f9-43fa-9693-8b382baa5b40\",\"type\":\"Grid\"},{\"attributes\":{\"plot\":{\"id\":\"84f47bb5-c316-420e-88ea-1fd9f1f71668\",\"subtype\":\"Figure\",\"type\":\"Plot\"}},\"id\":\"9f7ce076-c117-4f67-998d-10a2dc87395f\",\"type\":\"WheelZoomTool\"},{\"attributes\":{\"active_drag\":\"auto\",\"active_scroll\":\"auto\",\"active_tap\":\"auto\",\"tools\":[{\"id\":\"de73f0c0-226c-4c64-a532-16326c17e4ce\",\"type\":\"PanTool\"},{\"id\":\"9f7ce076-c117-4f67-998d-10a2dc87395f\",\"type\":\"WheelZoomTool\"},{\"id\":\"78fd4787-4bb5-4402-8763-365b79917897\",\"type\":\"BoxZoomTool\"},{\"id\":\"b547774a-cbd4-4fb8-80fc-565724882061\",\"type\":\"SaveTool\"},{\"id\":\"066f7399-f622-4770-9a60-e8212b7b29ea\",\"type\":\"ResetTool\"},{\"id\":\"b1d0f53d-c4af-4479-a2e6-4901b329793b\",\"type\":\"HelpTool\"}]},\"id\":\"3d6ae636-4162-4c6c-b2a2-a06076acc8ab\",\"type\":\"Toolbar\"},{\"attributes\":{},\"id\":\"147dea84-4d40-4859-9da5-bccaee428887\",\"type\":\"BasicTickFormatter\"},{\"attributes\":{},\"id\":\"5717d6d8-1578-4962-9f0e-094f90b4de76\",\"type\":\"ToolEvents\"},{\"attributes\":{\"children\":[{\"id\":\"c01c1323-670e-410f-8fdd-ab8c9049b790\",\"type\":\"Slider\"}]},\"id\":\"159c745b-91b5-4291-9b4b-4fecee285e5f\",\"type\":\"WidgetBox\"},{\"attributes\":{\"callback\":null,\"column_names\":[\"x\",\"y\"],\"data\":{\"x\":[0.0,0.005,0.01,0.015,0.02,0.025,0.03,0.035,0.04,0.045,0.05,0.055,0.06,0.065,0.07,0.075,0.08,0.085,0.09,0.095,0.1,0.105,0.11,0.115,0.12,0.125,0.13,0.135,0.14,0.145,0.15,0.155,0.16,0.165,0.17,0.17500000000000002,0.18,0.185,0.19,0.195,0.2,0.20500000000000002,0.21,0.215,0.22,0.225,0.23,0.23500000000000001,0.24,0.245,0.25,0.255,0.26,0.265,0.27,0.275,0.28,0.28500000000000003,0.29,0.295,0.3,0.305,0.31,0.315,0.32,0.325,0.33,0.335,0.34,0.34500000000000003,0.35000000000000003,0.355,0.36,0.365,0.37,0.375,0.38,0.385,0.39,0.395,0.4,0.405,0.41000000000000003,0.41500000000000004,0.42,0.425,0.43,0.435,0.44,0.445,0.45,0.455,0.46,0.465,0.47000000000000003,0.47500000000000003,0.48,0.485,0.49,0.495,0.5,0.505,0.51,0.515,0.52,0.525,0.53,0.535,0.54,0.545,0.55,0.555,0.56,0.5650000000000001,0.5700000000000001,0.5750000000000001,0.58,0.585,0.59,0.595,0.6,0.605,0.61,0.615,0.62,0.625,0.63,0.635,0.64,0.645,0.65,0.655,0.66,0.665,0.67,0.675,0.68,0.685,0.6900000000000001,0.6950000000000001,0.7000000000000001,0.705,0.71,0.715,0.72,0.725,0.73,0.735,0.74,0.745,0.75,0.755,0.76,0.765,0.77,0.775,0.78,0.785,0.79,0.795,0.8,0.805,0.81,0.8150000000000001,0.8200000000000001,0.8250000000000001,0.8300000000000001,0.835,0.84,0.845,0.85,0.855,0.86,0.865,0.87,0.875,0.88,0.885,0.89,0.895,0.9,0.905,0.91,0.915,0.92,0.925,0.93,0.935,0.9400000000000001,0.9450000000000001,0.9500000000000001,0.9550000000000001,0.96,0.965,0.97,0.975,0.98,0.985,0.99,0.995],\"y\":[0.0,0.005,0.01,0.015,0.02,0.025,0.03,0.035,0.04,0.045,0.05,0.055,0.06,0.065,0.07,0.075,0.08,0.085,0.09,0.095,0.1,0.105,0.11,0.115,0.12,0.125,0.13,0.135,0.14,0.145,0.15,0.155,0.16,0.165,0.17,0.17500000000000002,0.18,0.185,0.19,0.195,0.2,0.20500000000000002,0.21,0.215,0.22,0.225,0.23,0.23500000000000001,0.24,0.245,0.25,0.255,0.26,0.265,0.27,0.275,0.28,0.28500000000000003,0.29,0.295,0.3,0.305,0.31,0.315,0.32,0.325,0.33,0.335,0.34,0.34500000000000003,0.35000000000000003,0.355,0.36,0.365,0.37,0.375,0.38,0.385,0.39,0.395,0.4,0.405,0.41000000000000003,0.41500000000000004,0.42,0.425,0.43,0.435,0.44,0.445,0.45,0.455,0.46,0.465,0.47000000000000003,0.47500000000000003,0.48,0.485,0.49,0.495,0.5,0.505,0.51,0.515,0.52,0.525,0.53,0.535,0.54,0.545,0.55,0.555,0.56,0.5650000000000001,0.5700000000000001,0.5750000000000001,0.58,0.585,0.59,0.595,0.6,0.605,0.61,0.615,0.62,0.625,0.63,0.635,0.64,0.645,0.65,0.655,0.66,0.665,0.67,0.675,0.68,0.685,0.6900000000000001,0.6950000000000001,0.7000000000000001,0.705,0.71,0.715,0.72,0.725,0.73,0.735,0.74,0.745,0.75,0.755,0.76,0.765,0.77,0.775,0.78,0.785,0.79,0.795,0.8,0.805,0.81,0.8150000000000001,0.8200000000000001,0.8250000000000001,0.8300000000000001,0.835,0.84,0.845,0.85,0.855,0.86,0.865,0.87,0.875,0.88,0.885,0.89,0.895,0.9,0.905,0.91,0.915,0.92,0.925,0.93,0.935,0.9400000000000001,0.9450000000000001,0.9500000000000001,0.9550000000000001,0.96,0.965,0.97,0.975,0.98,0.985,0.99,0.995]}},\"id\":\"2a0bbd6c-378d-474b-bf5a-fefd14d14e4e\",\"type\":\"ColumnDataSource\"},{\"attributes\":{\"plot\":{\"id\":\"84f47bb5-c316-420e-88ea-1fd9f1f71668\",\"subtype\":\"Figure\",\"type\":\"Plot\"}},\"id\":\"b1d0f53d-c4af-4479-a2e6-4901b329793b\",\"type\":\"HelpTool\"},{\"attributes\":{\"plot\":{\"id\":\"84f47bb5-c316-420e-88ea-1fd9f1f71668\",\"subtype\":\"Figure\",\"type\":\"Plot\"},\"ticker\":{\"id\":\"6fd6fa0a-74bf-4c02-b5df-b373e7ee7dbe\",\"type\":\"BasicTicker\"}},\"id\":\"021c4008-6a8d-4665-bce9-f20363524154\",\"type\":\"Grid\"},{\"attributes\":{\"plot\":{\"id\":\"84f47bb5-c316-420e-88ea-1fd9f1f71668\",\"subtype\":\"Figure\",\"type\":\"Plot\"}},\"id\":\"b547774a-cbd4-4fb8-80fc-565724882061\",\"type\":\"SaveTool\"},{\"attributes\":{\"overlay\":{\"id\":\"0355d8a4-b59b-4cd6-96d0-787d8b10c39a\",\"type\":\"BoxAnnotation\"},\"plot\":{\"id\":\"84f47bb5-c316-420e-88ea-1fd9f1f71668\",\"subtype\":\"Figure\",\"type\":\"Plot\"}},\"id\":\"78fd4787-4bb5-4402-8763-365b79917897\",\"type\":\"BoxZoomTool\"},{\"attributes\":{},\"id\":\"7052128d-b1e3-4d9b-a40c-3066ab19c0e8\",\"type\":\"BasicTickFormatter\"},{\"attributes\":{},\"id\":\"6fd6fa0a-74bf-4c02-b5df-b373e7ee7dbe\",\"type\":\"BasicTicker\"},{\"attributes\":{\"formatter\":{\"id\":\"7052128d-b1e3-4d9b-a40c-3066ab19c0e8\",\"type\":\"BasicTickFormatter\"},\"plot\":{\"id\":\"84f47bb5-c316-420e-88ea-1fd9f1f71668\",\"subtype\":\"Figure\",\"type\":\"Plot\"},\"ticker\":{\"id\":\"51090048-f313-4923-82ed-ae18b3eaf72e\",\"type\":\"BasicTicker\"}},\"id\":\"822f815b-c01f-4c6c-a8d6-55de27925384\",\"type\":\"LinearAxis\"},{\"attributes\":{\"plot\":null,\"text\":\"\"},\"id\":\"4c6e653a-e75a-4a0d-8396-fd5338643b82\",\"type\":\"Title\"},{\"attributes\":{\"line_alpha\":{\"value\":0.1},\"line_color\":{\"value\":\"#1f77b4\"},\"line_width\":{\"value\":3},\"x\":{\"field\":\"x\"},\"y\":{\"field\":\"y\"}},\"id\":\"70a36dbc-514e-4962-b3d5-d60c46bfbebf\",\"type\":\"Line\"},{\"attributes\":{\"line_alpha\":{\"value\":0.6},\"line_color\":{\"value\":\"#1f77b4\"},\"line_width\":{\"value\":3},\"x\":{\"field\":\"x\"},\"y\":{\"field\":\"y\"}},\"id\":\"0254dc19-08c7-440a-89c3-c58b5f07be11\",\"type\":\"Line\"},{\"attributes\":{\"callback\":null},\"id\":\"19919592-dcb8-4652-9fa8-82106526e777\",\"type\":\"DataRange1d\"},{\"attributes\":{\"args\":{\"source\":{\"id\":\"2a0bbd6c-378d-474b-bf5a-fefd14d14e4e\",\"type\":\"ColumnDataSource\"}},\"code\":\"\\n    var data = source.get('data');\\n    var f = cb_obj.get('value')\\n    x = data['x']\\n    y = data['y']\\n    for (i = 0; i < x.length; i++) {\\n        y[i] = Math.pow(x[i], f)\\n    }\\n    source.trigger('change');\\n\"},\"id\":\"d133e3d0-4b54-47ce-9daa-289767fbf2c2\",\"type\":\"CustomJS\"},{\"attributes\":{\"plot\":{\"id\":\"84f47bb5-c316-420e-88ea-1fd9f1f71668\",\"subtype\":\"Figure\",\"type\":\"Plot\"}},\"id\":\"de73f0c0-226c-4c64-a532-16326c17e4ce\",\"type\":\"PanTool\"},{\"attributes\":{\"formatter\":{\"id\":\"147dea84-4d40-4859-9da5-bccaee428887\",\"type\":\"BasicTickFormatter\"},\"plot\":{\"id\":\"84f47bb5-c316-420e-88ea-1fd9f1f71668\",\"subtype\":\"Figure\",\"type\":\"Plot\"},\"ticker\":{\"id\":\"6fd6fa0a-74bf-4c02-b5df-b373e7ee7dbe\",\"type\":\"BasicTicker\"}},\"id\":\"4ea57d34-a792-43fb-8d8a-96b82cb73a3c\",\"type\":\"LinearAxis\"},{\"attributes\":{\"callback\":null},\"id\":\"38229245-4cbc-4180-bc2d-32c38aa1e228\",\"type\":\"DataRange1d\"},{\"attributes\":{\"callback\":{\"id\":\"d133e3d0-4b54-47ce-9daa-289767fbf2c2\",\"type\":\"CustomJS\"},\"end\":4,\"start\":0.1,\"title\":\"power\",\"value\":1},\"id\":\"c01c1323-670e-410f-8fdd-ab8c9049b790\",\"type\":\"Slider\"},{\"attributes\":{\"below\":[{\"id\":\"4ea57d34-a792-43fb-8d8a-96b82cb73a3c\",\"type\":\"LinearAxis\"}],\"left\":[{\"id\":\"822f815b-c01f-4c6c-a8d6-55de27925384\",\"type\":\"LinearAxis\"}],\"plot_height\":400,\"plot_width\":400,\"renderers\":[{\"id\":\"4ea57d34-a792-43fb-8d8a-96b82cb73a3c\",\"type\":\"LinearAxis\"},{\"id\":\"021c4008-6a8d-4665-bce9-f20363524154\",\"type\":\"Grid\"},{\"id\":\"822f815b-c01f-4c6c-a8d6-55de27925384\",\"type\":\"LinearAxis\"},{\"id\":\"12bb2248-45f9-43fa-9693-8b382baa5b40\",\"type\":\"Grid\"},{\"id\":\"0355d8a4-b59b-4cd6-96d0-787d8b10c39a\",\"type\":\"BoxAnnotation\"},{\"id\":\"a356b985-f83e-40cc-949a-1d118c448aa7\",\"type\":\"GlyphRenderer\"}],\"title\":{\"id\":\"4c6e653a-e75a-4a0d-8396-fd5338643b82\",\"type\":\"Title\"},\"tool_events\":{\"id\":\"5717d6d8-1578-4962-9f0e-094f90b4de76\",\"type\":\"ToolEvents\"},\"toolbar\":{\"id\":\"3d6ae636-4162-4c6c-b2a2-a06076acc8ab\",\"type\":\"Toolbar\"},\"x_range\":{\"id\":\"38229245-4cbc-4180-bc2d-32c38aa1e228\",\"type\":\"DataRange1d\"},\"y_range\":{\"id\":\"19919592-dcb8-4652-9fa8-82106526e777\",\"type\":\"DataRange1d\"}},\"id\":\"84f47bb5-c316-420e-88ea-1fd9f1f71668\",\"subtype\":\"Figure\",\"type\":\"Plot\"},{\"attributes\":{\"bottom_units\":\"screen\",\"fill_alpha\":{\"value\":0.5},\"fill_color\":{\"value\":\"lightgrey\"},\"left_units\":\"screen\",\"level\":\"overlay\",\"line_alpha\":{\"value\":1.0},\"line_color\":{\"value\":\"black\"},\"line_dash\":[4,4],\"line_width\":{\"value\":2},\"plot\":null,\"render_mode\":\"css\",\"right_units\":\"screen\",\"top_units\":\"screen\"},\"id\":\"0355d8a4-b59b-4cd6-96d0-787d8b10c39a\",\"type\":\"BoxAnnotation\"},{\"attributes\":{\"plot\":{\"id\":\"84f47bb5-c316-420e-88ea-1fd9f1f71668\",\"subtype\":\"Figure\",\"type\":\"Plot\"}},\"id\":\"066f7399-f622-4770-9a60-e8212b7b29ea\",\"type\":\"ResetTool\"},{\"attributes\":{\"children\":[{\"id\":\"159c745b-91b5-4291-9b4b-4fecee285e5f\",\"type\":\"WidgetBox\"},{\"id\":\"84f47bb5-c316-420e-88ea-1fd9f1f71668\",\"subtype\":\"Figure\",\"type\":\"Plot\"}]},\"id\":\"0cb0c18c-fc01-49e4-98bf-b63881a19fad\",\"type\":\"Column\"},{\"attributes\":{\"data_source\":{\"id\":\"2a0bbd6c-378d-474b-bf5a-fefd14d14e4e\",\"type\":\"ColumnDataSource\"},\"glyph\":{\"id\":\"0254dc19-08c7-440a-89c3-c58b5f07be11\",\"type\":\"Line\"},\"hover_glyph\":null,\"nonselection_glyph\":{\"id\":\"70a36dbc-514e-4962-b3d5-d60c46bfbebf\",\"type\":\"Line\"},\"selection_glyph\":null},\"id\":\"a356b985-f83e-40cc-949a-1d118c448aa7\",\"type\":\"GlyphRenderer\"}],\"root_ids\":[\"0cb0c18c-fc01-49e4-98bf-b63881a19fad\"]},\"title\":\"Bokeh Application\",\"version\":\"0.12.4\"}};\n",
       "            var render_items = [{\"docid\":\"19895065-7e24-4ee5-b194-60376dac2cc7\",\"elementid\":\"128237dd-b904-4e01-8cb2-fa766ffaa88b\",\"modelid\":\"0cb0c18c-fc01-49e4-98bf-b63881a19fad\"}];\n",
       "            \n",
       "            Bokeh.embed.embed_items(docs_json, render_items);\n",
       "          };\n",
       "          if (document.readyState != \"loading\") fn();\n",
       "          else document.addEventListener(\"DOMContentLoaded\", fn);\n",
       "        })();\n",
       "      },\n",
       "      function(Bokeh) {\n",
       "      }\n",
       "    ];\n",
       "  \n",
       "    function run_inline_js() {\n",
       "      \n",
       "      if ((window.Bokeh !== undefined) || (force === true)) {\n",
       "        for (var i = 0; i < inline_js.length; i++) {\n",
       "          inline_js[i](window.Bokeh);\n",
       "        }if (force === true) {\n",
       "          display_loaded();\n",
       "        }} else if (Date.now() < window._bokeh_timeout) {\n",
       "        setTimeout(run_inline_js, 100);\n",
       "      } else if (!window._bokeh_failed_load) {\n",
       "        console.log(\"Bokeh: BokehJS failed to load within specified timeout.\");\n",
       "        window._bokeh_failed_load = true;\n",
       "      } else if (force !== true) {\n",
       "        var cell = $(document.getElementById(\"128237dd-b904-4e01-8cb2-fa766ffaa88b\")).parents('.cell').data().cell;\n",
       "        cell.output_area.append_execute_result(NB_LOAD_WARNING)\n",
       "      }\n",
       "  \n",
       "    }\n",
       "  \n",
       "    if (window._bokeh_is_loading === 0) {\n",
       "      console.log(\"Bokeh: BokehJS loaded, going straight to plotting\");\n",
       "      run_inline_js();\n",
       "    } else {\n",
       "      load_libs(js_urls, function() {\n",
       "        console.log(\"Bokeh: BokehJS plotting callback run at\", now());\n",
       "        run_inline_js();\n",
       "      });\n",
       "    }\n",
       "  }(this));\n",
       "</script>"
      ]
     },
     "metadata": {},
     "output_type": "display_data"
    }
   ],
   "source": [
    "from bokeh.layouts import column\n",
    "from bokeh.models import CustomJS, ColumnDataSource, Slider\n",
    "from bokeh.plotting import figure\n",
    "\n",
    "x = [x*0.005 for x in range(0, 200)]\n",
    "y = x\n",
    "\n",
    "source = ColumnDataSource(data=dict(x=x, y=y))\n",
    "\n",
    "plot = figure(plot_width=400, plot_height=400)\n",
    "plot.line('x', 'y', source=source, line_width=3, line_alpha=0.6)\n",
    "\n",
    "callback = CustomJS(args=dict(source=source), code=\"\"\"\n",
    "    var data = source.get('data');\n",
    "    var f = cb_obj.get('value')\n",
    "    x = data['x']\n",
    "    y = data['y']\n",
    "    for (i = 0; i < x.length; i++) {\n",
    "        y[i] = Math.pow(x[i], f)\n",
    "    }\n",
    "    source.trigger('change');\n",
    "\"\"\")\n",
    "\n",
    "slider = Slider(start=0.1, end=4, value=1, step=.1, title=\"power\", callback=callback)\n",
    "\n",
    "layout = column(slider, plot)\n",
    "\n",
    "show(layout)"
   ]
  },
  {
   "cell_type": "code",
   "execution_count": 39,
   "metadata": {
    "collapsed": false
   },
   "outputs": [
    {
     "ename": "KeyError",
     "evalue": "16",
     "output_type": "error",
     "traceback": [
      "\u001b[0;31m---------------------------------------------------------------------------\u001b[0m",
      "\u001b[0;31mKeyError\u001b[0m                                  Traceback (most recent call last)",
      "\u001b[0;32m<ipython-input-39-327525dcee24>\u001b[0m in \u001b[0;36m<module>\u001b[0;34m()\u001b[0m\n\u001b[1;32m      1\u001b[0m \u001b[0;32mimport\u001b[0m \u001b[0mbokeh\u001b[0m\u001b[0;34m.\u001b[0m\u001b[0mpalettes\u001b[0m\u001b[0;34m\u001b[0m\u001b[0m\n\u001b[1;32m      2\u001b[0m \u001b[0;32mimport\u001b[0m \u001b[0mrandom\u001b[0m\u001b[0;34m\u001b[0m\u001b[0m\n\u001b[0;32m----> 3\u001b[0;31m \u001b[0mprint\u001b[0m\u001b[0;34m(\u001b[0m\u001b[0mrandom\u001b[0m\u001b[0;34m.\u001b[0m\u001b[0mchoice\u001b[0m\u001b[0;34m(\u001b[0m\u001b[0mbokeh\u001b[0m\u001b[0;34m.\u001b[0m\u001b[0mpalettes\u001b[0m\u001b[0;34m.\u001b[0m\u001b[0mall_palettes\u001b[0m\u001b[0;34m)\u001b[0m\u001b[0;34m)\u001b[0m\u001b[0;34m\u001b[0m\u001b[0m\n\u001b[0m",
      "\u001b[0;32m/usr/lib64/python3.5/random.py\u001b[0m in \u001b[0;36mchoice\u001b[0;34m(self, seq)\u001b[0m\n\u001b[1;32m    263\u001b[0m         \u001b[0;32mexcept\u001b[0m \u001b[0mValueError\u001b[0m\u001b[0;34m:\u001b[0m\u001b[0;34m\u001b[0m\u001b[0m\n\u001b[1;32m    264\u001b[0m             \u001b[0;32mraise\u001b[0m \u001b[0mIndexError\u001b[0m\u001b[0;34m(\u001b[0m\u001b[0;34m'Cannot choose from an empty sequence'\u001b[0m\u001b[0;34m)\u001b[0m\u001b[0;34m\u001b[0m\u001b[0m\n\u001b[0;32m--> 265\u001b[0;31m         \u001b[0;32mreturn\u001b[0m \u001b[0mseq\u001b[0m\u001b[0;34m[\u001b[0m\u001b[0mi\u001b[0m\u001b[0;34m]\u001b[0m\u001b[0;34m\u001b[0m\u001b[0m\n\u001b[0m\u001b[1;32m    266\u001b[0m \u001b[0;34m\u001b[0m\u001b[0m\n\u001b[1;32m    267\u001b[0m     \u001b[0;32mdef\u001b[0m \u001b[0mshuffle\u001b[0m\u001b[0;34m(\u001b[0m\u001b[0mself\u001b[0m\u001b[0;34m,\u001b[0m \u001b[0mx\u001b[0m\u001b[0;34m,\u001b[0m \u001b[0mrandom\u001b[0m\u001b[0;34m=\u001b[0m\u001b[0;32mNone\u001b[0m\u001b[0;34m)\u001b[0m\u001b[0;34m:\u001b[0m\u001b[0;34m\u001b[0m\u001b[0m\n",
      "\u001b[0;31mKeyError\u001b[0m: 16"
     ]
    }
   ],
   "source": [
    "import bokeh.palettes\n",
    "import random"
   ]
  },
  {
   "cell_type": "code",
   "execution_count": 40,
   "metadata": {
    "collapsed": true
   },
   "outputs": [],
   "source": [
    "key, item = random.choice(list(bokeh.palettes.all_palettes.items()))"
   ]
  },
  {
   "cell_type": "code",
   "execution_count": 42,
   "metadata": {
    "collapsed": false
   },
   "outputs": [
    {
     "name": "stdout",
     "output_type": "stream",
     "text": [
      "Pastel1\n",
      "{3: ['#fbb4ae', '#b3cde3', '#ccebc5'], 4: ['#fbb4ae', '#b3cde3', '#ccebc5', '#decbe4'], 5: ['#fbb4ae', '#b3cde3', '#ccebc5', '#decbe4', '#fed9a6'], 6: ['#fbb4ae', '#b3cde3', '#ccebc5', '#decbe4', '#fed9a6', '#ffffcc'], 7: ['#fbb4ae', '#b3cde3', '#ccebc5', '#decbe4', '#fed9a6', '#ffffcc', '#e5d8bd'], 8: ['#fbb4ae', '#b3cde3', '#ccebc5', '#decbe4', '#fed9a6', '#ffffcc', '#e5d8bd', '#fddaec'], 9: ['#fbb4ae', '#b3cde3', '#ccebc5', '#decbe4', '#fed9a6', '#ffffcc', '#e5d8bd', '#fddaec', '#f2f2f2']}\n"
     ]
    }
   ],
   "source": [
    "print(key)\n",
    "print(item)"
   ]
  },
  {
   "cell_type": "code",
   "execution_count": 45,
   "metadata": {
    "collapsed": false
   },
   "outputs": [
    {
     "data": {
      "text/plain": [
       "9"
      ]
     },
     "execution_count": 45,
     "metadata": {},
     "output_type": "execute_result"
    }
   ],
   "source": [
    "max(item)"
   ]
  },
  {
   "cell_type": "code",
   "execution_count": 47,
   "metadata": {
    "collapsed": false
   },
   "outputs": [
    {
     "data": {
      "text/plain": [
       "['#fbb4ae',\n",
       " '#b3cde3',\n",
       " '#ccebc5',\n",
       " '#decbe4',\n",
       " '#fed9a6',\n",
       " '#ffffcc',\n",
       " '#e5d8bd',\n",
       " '#fddaec',\n",
       " '#f2f2f2']"
      ]
     },
     "execution_count": 47,
     "metadata": {},
     "output_type": "execute_result"
    }
   ],
   "source": [
    "item[max(item)]"
   ]
  },
  {
   "cell_type": "code",
   "execution_count": 70,
   "metadata": {
    "collapsed": false
   },
   "outputs": [
    {
     "data": {
      "text/plain": [
       "['#fbb4ae',\n",
       " '#b3cde3',\n",
       " '#ccebc5',\n",
       " '#decbe4',\n",
       " '#fed9a6',\n",
       " '#ffffcc',\n",
       " '#e5d8bd',\n",
       " '#fddaec',\n",
       " '#f2f2f2']"
      ]
     },
     "execution_count": 70,
     "metadata": {},
     "output_type": "execute_result"
    }
   ],
   "source": [
    "palettes = bokeh.palettes.all_palettes\n",
    "palettes_list = ['Category20', 'Accent', 'Paired', 'Pastel1', 'Spectral', 'Set3']\n",
    "palette_name = random.choice(list(palettes_list))\n",
    "palette = palettes[palette_name][max(palettes[palette_name])]"
   ]
  },
  {
   "cell_type": "code",
   "execution_count": null,
   "metadata": {
    "collapsed": true
   },
   "outputs": [],
   "source": [
    "colors = \n",
    "colors"
   ]
  }
 ],
 "metadata": {
  "kernelspec": {
   "display_name": "Python 3",
   "language": "python",
   "name": "python3"
  },
  "language_info": {
   "codemirror_mode": {
    "name": "ipython",
    "version": 3
   },
   "file_extension": ".py",
   "mimetype": "text/x-python",
   "name": "python",
   "nbconvert_exporter": "python",
   "pygments_lexer": "ipython3",
   "version": "3.5.3"
  }
 },
 "nbformat": 4,
 "nbformat_minor": 2
}
